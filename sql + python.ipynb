{
 "cells": [
  {
   "cell_type": "code",
   "execution_count": 4,
   "id": "3efac63d",
   "metadata": {},
   "outputs": [
    {
     "name": "stdout",
     "output_type": "stream",
     "text": [
      "Collecting pymysql\n",
      "  Downloading PyMySQL-1.0.2-py3-none-any.whl (43 kB)\n",
      "Installing collected packages: pymysql\n",
      "Successfully installed pymysql-1.0.2\n"
     ]
    }
   ],
   "source": [
    "!pip install pymysql"
   ]
  },
  {
   "cell_type": "code",
   "execution_count": 5,
   "id": "4bd461b4",
   "metadata": {},
   "outputs": [],
   "source": [
    "from bs4 import BeautifulSoup\n",
    "import requests\n",
    "import pandas as pd\n",
    "import pymysql"
   ]
  },
  {
   "cell_type": "code",
   "execution_count": 12,
   "id": "c28c7406",
   "metadata": {},
   "outputs": [],
   "source": [
    "# 전역변수 선언부\n",
    "conn, cur = None, None\n",
    "data1, data2, data3, data4 = '','','',''\n",
    "\n",
    "# 메인코드\n",
    "conn = pymysql.connect(host='localhost', user='root', password='1111',\n",
    "                     db = 'shoppingDB', charset ='utf8')\n",
    "\n",
    "cur = conn.cursor()\n",
    "cur.execute('Create table if not exists usertable (id char(4), userName char(15), email char(20), birthYear int)')\n",
    "cur.execute(\"insert into usertable values('join', 'john', 'john@naver.com',1990)\")\n",
    "cur.execute(\"insert into usertable values('kim', 'kim mike', 'kim@naver.com',1980)\")\n",
    "cur.execute(\"insert into usertable values('park', 'park minseo', 'park@naver.com',2000)\")\n",
    "\n",
    "conn.commit()\n",
    "conn.close()"
   ]
  },
  {
   "cell_type": "code",
   "execution_count": 15,
   "id": "2d8da429",
   "metadata": {},
   "outputs": [
    {
     "name": "stdout",
     "output_type": "stream",
     "text": [
      "사용자ID    사용자이름   이메일   출생연도\n",
      "--------------------------\n",
      " join            john  john@naver.com 1990\n",
      "  kim        kim mike   kim@naver.com 1980\n",
      " park     park minseo  park@naver.com 2000\n"
     ]
    }
   ],
   "source": [
    "# 전역변수 선언\n",
    "conn, cur = None, None\n",
    "data1, data2, data3, data4 = '','','',''\n",
    "\n",
    "# 메인코드\n",
    "conn = pymysql.connect(host='localhost', user='root', password='1111',\n",
    "                     db = 'shoppingDB', charset ='utf8')\n",
    "cur =conn.cursor()\n",
    "cur.execute('select *from usertable')\n",
    "print('사용자ID    사용자이름   이메일   출생연도')\n",
    "print('--------------------------')\n",
    "\n",
    "while(True):\n",
    "    row = cur.fetchone()\n",
    "    if row == None:\n",
    "        break\n",
    "    data1 = row[0]\n",
    "    data2 = row[1]\n",
    "    data3 = row[2]\n",
    "    data4 = row[3]\n",
    "    print('%5s %15s %15s %d'%(data1, data2, data3, data4))\n",
    "\n",
    "conn.close()"
   ]
  },
  {
   "cell_type": "code",
   "execution_count": 25,
   "id": "a3dc3efc",
   "metadata": {},
   "outputs": [],
   "source": [
    "import csv\n",
    "import pymysql\n",
    "\n",
    "# 메인코드\n",
    "conn = pymysql.connect(host='localhost', user='root', password='1111',\n",
    "                     db = 'shoppingDB', charset ='utf8')\n",
    "\n",
    "cur = conn.cursor()\n",
    "\n",
    "f = open('2.csv','r') # utf-8\n",
    "csvReader = list(csv.reader(f))\n",
    "cur.execute('create table if not exists test (name char(10), kor char(15))')\n",
    "\n",
    "for data in csvReader[1:]:\n",
    "    row1 = data[0]\n",
    "    row2 = data[1]\n",
    "    \n",
    "    sql = '''insert into test (name, kor) values(%s, %s);'''\n",
    "    cur.execute(sql, (row1, row2))\n",
    "    \n",
    "f.close()\n",
    "conn.commit()\n",
    "conn.close()"
   ]
  },
  {
   "cell_type": "code",
   "execution_count": null,
   "id": "f75dd0a5",
   "metadata": {},
   "outputs": [],
   "source": []
  },
  {
   "cell_type": "code",
   "execution_count": null,
   "id": "710fbb1c",
   "metadata": {},
   "outputs": [],
   "source": []
  },
  {
   "cell_type": "code",
   "execution_count": null,
   "id": "2f0333c3",
   "metadata": {},
   "outputs": [],
   "source": []
  },
  {
   "cell_type": "code",
   "execution_count": null,
   "id": "cc2524ae",
   "metadata": {},
   "outputs": [],
   "source": []
  },
  {
   "cell_type": "code",
   "execution_count": null,
   "id": "924d690b",
   "metadata": {},
   "outputs": [],
   "source": []
  },
  {
   "cell_type": "code",
   "execution_count": null,
   "id": "4196b57d",
   "metadata": {},
   "outputs": [],
   "source": []
  },
  {
   "cell_type": "code",
   "execution_count": null,
   "id": "844ae1a3",
   "metadata": {},
   "outputs": [],
   "source": []
  },
  {
   "cell_type": "code",
   "execution_count": null,
   "id": "1049ad11",
   "metadata": {},
   "outputs": [],
   "source": []
  },
  {
   "cell_type": "code",
   "execution_count": null,
   "id": "f2ad8efd",
   "metadata": {},
   "outputs": [],
   "source": []
  }
 ],
 "metadata": {
  "kernelspec": {
   "display_name": "Python 3",
   "language": "python",
   "name": "python3"
  },
  "language_info": {
   "codemirror_mode": {
    "name": "ipython",
    "version": 3
   },
   "file_extension": ".py",
   "mimetype": "text/x-python",
   "name": "python",
   "nbconvert_exporter": "python",
   "pygments_lexer": "ipython3",
   "version": "3.8.8"
  }
 },
 "nbformat": 4,
 "nbformat_minor": 5
}
